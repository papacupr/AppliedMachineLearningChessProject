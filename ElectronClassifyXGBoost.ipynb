{
 "cells": [
  {
   "cell_type": "code",
   "execution_count": 1,
   "id": "894439ac",
   "metadata": {},
   "outputs": [],
   "source": [
    "import numpy as np\n",
    "import pandas as pd\n",
    "import matplotlib.pyplot as plt\n",
    "import umap\n",
    "from matplotlib.colors import LogNorm\n",
    "from sklearn.decomposition import PCA, KernelPCA\n",
    "from sklearn.manifold import TSNE\n",
    "import h5py\n",
    "from sklearn.datasets import make_classification\n",
    "from sklearn.feature_selection import SelectKBest\n",
    "from sklearn.feature_selection import f_classif\n",
    "import sklearn.metrics as sm\n",
    "from sklearn import datasets, linear_model \n",
    "from sklearn.model_selection import train_test_split\n",
    "from sklearn.preprocessing import LabelEncoder\n",
    "from sklearn.preprocessing import OneHotEncoder\n",
    "from sklearn.linear_model import LogisticRegression\n",
    "from sklearn.metrics import classification_report, confusion_matrix, mean_squared_error\n",
    "from sklearn.feature_selection import SelectKBest\n",
    "from sklearn.feature_selection import chi2\n",
    "import statsmodels.api as sm\n",
    "from sklearn.feature_selection import VarianceThreshold\n",
    "import sklearn.metrics as metrics\n",
    "from matplotlib import pyplot"
   ]
  },
  {
   "cell_type": "code",
   "execution_count": 2,
   "id": "b03a932b",
   "metadata": {},
   "outputs": [],
   "source": [
    "def load_data(name):\n",
    "    with h5py.File(f'{name}.h5', 'r') as f:\n",
    "        filename = name.split('/')[0]\n",
    "        return pd.DataFrame(f[filename][:], dtype=np.float64)\n",
    "\n",
    "train = load_data('train')[1849:]\n",
    "test  = load_data('test')"
   ]
  },
  {
   "cell_type": "code",
   "execution_count": 3,
   "id": "aca18b78",
   "metadata": {},
   "outputs": [
    {
     "name": "stdout",
     "output_type": "stream",
     "text": [
      "(160651, 155)\n",
      "11\n",
      "runNumber\n",
      "p_E_Lr0_LowG\n",
      "p_E_Lr2_LowG\n",
      "p_E_Lr3_LowG\n",
      "p_etconeCorrBitset\n",
      "p_nCells_Lr0_LowG\n",
      "p_nCells_Lr2_LowG\n",
      "p_nCells_Lr3_LowG\n",
      "p_ptconeCorrBitset\n",
      "p_topoetconeCorrBitset\n",
      "p_widths2\n"
     ]
    },
    {
     "name": "stderr",
     "output_type": "stream",
     "text": [
      "C:\\Users\\coope\\AppData\\Local\\Temp/ipykernel_7240/1989990056.py:18: FutureWarning: In a future version of pandas all arguments of DataFrame.drop except for the argument 'labels' will be keyword-only\n",
      "  X = df.drop(\"Truth\", 1)\n"
     ]
    }
   ],
   "source": [
    "#Remove Static Variables\n",
    "qcons_filter = VarianceThreshold(threshold = 0)\n",
    "train_qcons = qcons_filter.fit_transform(train)\n",
    "print(train_qcons.shape)\n",
    "\n",
    "qcons_columns = [column for column in train.columns if column not in train.columns[qcons_filter.get_support()]]\n",
    "print(len(qcons_columns))\n",
    "\n",
    "for column in qcons_columns:\n",
    "    print(column)\n",
    "\n",
    "train_qcons = train.drop(qcons_columns, axis=1)\n",
    "train_qcons.shape\n",
    "\n",
    "df = pd.DataFrame(train_qcons, columns = train_qcons.columns)\n",
    "ytarget = df['Truth']\n",
    "\n",
    "X = df.drop(\"Truth\", 1)\n",
    "y = df['Truth']"
   ]
  },
  {
   "cell_type": "code",
   "execution_count": 4,
   "id": "d9b9d037",
   "metadata": {},
   "outputs": [],
   "source": [
    "all_variables1 = ['p_Eratio', 'p_E5x7_Lr2', 'p_E3x5_Lr0', 'p_asy1', 'p_eClusterLr2', 'p_e235',\n",
    " 'p_E_Lr3_HiG', 'p_e255', 'p_maxEcell_energy', 'p_ambiguityType', 'p_e132', 'p_E7x7_Lr0',\n",
    " 'p_E3x5_Lr2', 'p_deltaR_tag', 'p_nTracks', 'p_e233', 'p_numberOfPixelHits', 'p_ethad1', 'eventNumber']\n",
    "\n",
    "all_variables2 = ['p_E3x5_Lr1', 'p_z0theta','p_E5x7_Lr3', 'p_E7x11_Lr3','p_emaxs1', 'p_e237' ,'p_R12',\n",
    " 'p_deltaPhiRescaled2', 'p_deltaPhiRescaled3','p_deltaEta3','p_maxEcell_x', 'p_E5x7_Lr0', 'p_d0Sig',\n",
    " 'p_DeltaE', 'p_E7x7_Lr3', 'p_E7x11_Lr2','p_E7x7_Lr2','p_e277', 'p_E_Lr1_MedG', 'p_sigmad0', 'p_weta1']\n",
    "\n",
    "xtrain = train[all_variables1]\n",
    "ytrain = train['Truth']\n",
    "xtest = test[all_variables1]"
   ]
  },
  {
   "cell_type": "code",
   "execution_count": 6,
   "id": "3ebd75ac",
   "metadata": {},
   "outputs": [
    {
     "name": "stdout",
     "output_type": "stream",
     "text": [
      "[0.99055684 0.96320915 0.9854638  ... 0.014326   0.00338745 0.9581456 ]\n"
     ]
    }
   ],
   "source": [
    "import xgboost as xg \n",
    "\n",
    "model = xg.XGBRegressor()\n",
    "model.fit(xtrain,ytrain)\n",
    "ytest = model.predict(xtest)\n",
    "print(ytest)\n",
    "#accuracy = metrics.log_loss(ytrain, ytest)\n",
    "#print(accuracy)\n",
    "#predictions.tofile('RegressorTreePredictions.csv',sep=',',format='%10.5f')"
   ]
  },
  {
   "cell_type": "code",
   "execution_count": null,
   "id": "e52ddff1",
   "metadata": {},
   "outputs": [],
   "source": []
  }
 ],
 "metadata": {
  "kernelspec": {
   "display_name": "Python 3 (ipykernel)",
   "language": "python",
   "name": "python3"
  },
  "language_info": {
   "codemirror_mode": {
    "name": "ipython",
    "version": 3
   },
   "file_extension": ".py",
   "mimetype": "text/x-python",
   "name": "python",
   "nbconvert_exporter": "python",
   "pygments_lexer": "ipython3",
   "version": "3.9.7"
  }
 },
 "nbformat": 4,
 "nbformat_minor": 5
}
