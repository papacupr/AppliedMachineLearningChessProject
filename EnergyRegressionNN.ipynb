{
 "cells": [
  {
   "cell_type": "code",
   "execution_count": 13,
   "id": "c0cd582f",
   "metadata": {},
   "outputs": [],
   "source": [
    "import numpy as np\n",
    "import pandas as pd\n",
    "import matplotlib.pyplot as plt\n",
    "import umap\n",
    "from matplotlib.colors import LogNorm\n",
    "from sklearn.decomposition import PCA, KernelPCA\n",
    "from sklearn.manifold import TSNE\n",
    "import h5py\n",
    "import sys\n",
    "from sklearn.datasets import make_classification\n",
    "from sklearn.feature_selection import SelectKBest\n",
    "from sklearn.feature_selection import f_classif\n",
    "from sklearn import datasets, linear_model \n",
    "from tensorflow.keras.layers import BatchNormalization\n",
    "from sklearn.model_selection import train_test_split\n",
    "from sklearn.preprocessing import LabelEncoder\n",
    "from sklearn.preprocessing import OneHotEncoder\n",
    "from keras.models import Sequential\n",
    "from keras.layers import Dense\n",
    "from keras.wrappers.scikit_learn import KerasRegressor\n",
    "from sklearn.model_selection import cross_val_score\n",
    "from sklearn.model_selection import KFold\n",
    "from sklearn.linear_model import LogisticRegression\n",
    "from sklearn.metrics import classification_report, confusion_matrix, mean_squared_error\n",
    "from sklearn.feature_selection import SelectKBest\n",
    "from sklearn.feature_selection import chi2\n",
    "from matplotlib import pyplot\n",
    "import tensorflow as tf\n",
    "from scikeras.wrappers import KerasClassifier, KerasRegressor\n",
    "from sklearn.preprocessing import StandardScaler\n",
    "from sklearn.pipeline import Pipeline\n",
    "from torch import nn"
   ]
  },
  {
   "cell_type": "code",
   "execution_count": 20,
   "id": "633bf3a1",
   "metadata": {},
   "outputs": [],
   "source": [
    "def load_data(name):\n",
    "    with h5py.File(f'{name}.h5', 'r') as f:\n",
    "        filename = name.split('/')[0]\n",
    "        return pd.DataFrame(f[filename][:], dtype=np.float64)\n",
    "\n",
    "train = load_data('train')[1849:]\n",
    "test  = load_data('test')\n",
    "    \n",
    "trainR = train.loc[train['Truth'] == 1]\n",
    "\n",
    "all_variables = ['p_Eratio', 'p_E5x7_Lr2', 'p_E3x5_Lr0', 'p_asy1', 'p_eClusterLr2', 'p_e235',\n",
    " 'p_E_Lr3_HiG','p_e255', 'p_maxEcell_energy', 'p_e132', 'p_E7x7_Lr0']\n",
    "\n",
    "xtrain = trainR[all_variables]\n",
    "xtest = test[all_variables]\n",
    "\n",
    "ytrain = trainR['p_truth_E'] \n"
   ]
  },
  {
   "cell_type": "code",
   "execution_count": 29,
   "id": "36608639",
   "metadata": {},
   "outputs": [
    {
     "data": {
      "text/plain": [
       "array([[ 27745.59 ],\n",
       "       [ 33716.11 ],\n",
       "       [136544.83 ],\n",
       "       ...,\n",
       "       [ 76007.86 ],\n",
       "       [ 40367.1  ],\n",
       "       [ 61188.816]], dtype=float32)"
      ]
     },
     "execution_count": 29,
     "metadata": {},
     "output_type": "execute_result"
    }
   ],
   "source": [
    "def baseline_model():\n",
    "    model = Sequential()\n",
    "    model.add(BatchNormalization())\n",
    "    model.add(Dense(11, input_dim=11))\n",
    "    #model.add(Dense(6))\n",
    "    model.add(Dense(1))\n",
    "    model.compile(loss='mean_squared_error', optimizer='adam')\n",
    "    return model\n",
    "\n",
    "model = baseline_model()\n",
    "model.predict(xtest)\n",
    "#kfold = KFold(n_splits=10)\n",
    "#results = cross_val_score(pipeline, xtrain, ytrain, cv=kfold)"
   ]
  },
  {
   "cell_type": "code",
   "execution_count": null,
   "id": "7520e2d6",
   "metadata": {},
   "outputs": [],
   "source": [
    "pipeline.fit(xtrain,ytrain)\n",
    "prediction = pipeline.predict(xtest)\n",
    "#predictions.tofile('ElectronEnergyNN.csv',sep=',',format='%10.5f')"
   ]
  },
  {
   "cell_type": "code",
   "execution_count": null,
   "id": "d7cb8de8",
   "metadata": {},
   "outputs": [],
   "source": [
    "np.set_printoptions(threshold=sys.maxsize)\n",
    "\n",
    "print(prediction)"
   ]
  },
  {
   "cell_type": "code",
   "execution_count": null,
   "id": "9492d7a8",
   "metadata": {},
   "outputs": [],
   "source": []
  }
 ],
 "metadata": {
  "kernelspec": {
   "display_name": "Python 3 (ipykernel)",
   "language": "python",
   "name": "python3"
  },
  "language_info": {
   "codemirror_mode": {
    "name": "ipython",
    "version": 3
   },
   "file_extension": ".py",
   "mimetype": "text/x-python",
   "name": "python",
   "nbconvert_exporter": "python",
   "pygments_lexer": "ipython3",
   "version": "3.9.7"
  }
 },
 "nbformat": 4,
 "nbformat_minor": 5
}
