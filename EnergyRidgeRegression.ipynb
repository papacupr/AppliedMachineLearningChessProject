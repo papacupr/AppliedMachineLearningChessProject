{
 "cells": [
  {
   "cell_type": "code",
   "execution_count": 13,
   "id": "3c9c9db6",
   "metadata": {},
   "outputs": [],
   "source": [
    "import h5py\n",
    "import pandas\n",
    "import numpy as np\n",
    "import matplotlib.pyplot as plt\n",
    "import numpy as np\n",
    "import pandas as pd\n",
    "from sklearn.tree import DecisionTreeClassifier, plot_tree\n",
    "from sklearn import tree\n",
    "from sklearn.model_selection import train_test_split\n",
    "from sklearn.feature_selection import SelectKBest,chi2,mutual_info_classif\n",
    "from sklearn.metrics import accuracy_score\n",
    "from IPython.display import display                               \n",
    "from ipywidgets import interactive\n",
    "from sklearn.model_selection import GridSearchCV\n",
    "from sklearn.model_selection import RepeatedKFold\n",
    "from sklearn.linear_model import Ridge\n",
    "\n",
    "from sklearn.model_selection import train_test_split, GridSearchCV, RandomizedSearchCV\n",
    "from scipy.stats import randint, poisson"
   ]
  },
  {
   "cell_type": "code",
   "execution_count": 14,
   "id": "09c0bb81",
   "metadata": {},
   "outputs": [],
   "source": [
    "def load_data(name):\n",
    "    with h5py.File(f'{name}.h5', 'r') as f:\n",
    "        filename = name.split('/')[0]\n",
    "        return pandas.DataFrame(f[filename][:], dtype=np.float64)\n",
    "\n",
    "train = load_data('train')[1849:]\n",
    "test  = load_data('test')\n",
    "    \n",
    "trainR = train.loc[train['Truth'] == 1]\n",
    "\n",
    "all_variables = ['p_Eratio', 'p_E5x7_Lr2', 'p_E3x5_Lr0', 'p_asy1', 'p_eClusterLr2', 'p_e235',\n",
    " 'p_E_Lr3_HiG','p_e255', 'p_maxEcell_energy', 'p_e132', 'p_E7x7_Lr0']\n",
    "\n",
    "xtrain = trainR[all_variables]\n",
    "xtest = test[all_variables]\n",
    "\n",
    "ytrain = trainR['p_truth_E'] "
   ]
  },
  {
   "cell_type": "code",
   "execution_count": 16,
   "id": "fa2d0821",
   "metadata": {},
   "outputs": [
    {
     "name": "stdout",
     "output_type": "stream",
     "text": [
      "-8910.546500795614\n",
      "{'alpha': 0.99}\n"
     ]
    }
   ],
   "source": [
    "model = Ridge()\n",
    "cv = RepeatedKFold(n_splits=10, n_repeats=3, random_state=1)\n",
    "grid = dict()\n",
    "grid['alpha'] = np.arange(0, 1, 0.01)\n",
    "search = GridSearchCV(model, grid, scoring='neg_mean_absolute_error', cv=cv, n_jobs=-1)\n",
    "results = search.fit(xtrain, ytrain)\n",
    "#model.fit(xtrain, ytrain)\n",
    "#ytest = model.predict(xtest)\n",
    "#print(ytest)\n",
    "print(results.best_score_)\n",
    "print(results.best_params_)"
   ]
  },
  {
   "cell_type": "code",
   "execution_count": null,
   "id": "6b792392",
   "metadata": {},
   "outputs": [],
   "source": []
  },
  {
   "cell_type": "code",
   "execution_count": 11,
   "id": "ff9b5b30",
   "metadata": {},
   "outputs": [],
   "source": [
    "df = pd.DataFrame(ytest)\n",
    "df.to_csv('Regression_CooperNicolaysen_Ridge.csv', header = None, index = True)"
   ]
  },
  {
   "cell_type": "code",
   "execution_count": null,
   "id": "fdfc2744",
   "metadata": {},
   "outputs": [],
   "source": []
  }
 ],
 "metadata": {
  "kernelspec": {
   "display_name": "Python 3 (ipykernel)",
   "language": "python",
   "name": "python3"
  },
  "language_info": {
   "codemirror_mode": {
    "name": "ipython",
    "version": 3
   },
   "file_extension": ".py",
   "mimetype": "text/x-python",
   "name": "python",
   "nbconvert_exporter": "python",
   "pygments_lexer": "ipython3",
   "version": "3.9.7"
  }
 },
 "nbformat": 4,
 "nbformat_minor": 5
}
